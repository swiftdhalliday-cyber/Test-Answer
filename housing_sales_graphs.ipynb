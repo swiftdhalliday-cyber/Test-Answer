# Name: Swift Donald Halliday
# Matric Number: De.2023/6402

"""
# Your original content of the first code cell goes here.
"""
