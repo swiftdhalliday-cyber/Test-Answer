{
 "cells": [
  {
   "cell_type": "code",
   "execution_count": null,
   "id": "3fd37ceb",
   "metadata": {},
   "outputs": [],
   "source": [
    "\n",
    "import pandas as pd\n",
    "import matplotlib.pyplot as plt\n",
    "\n",
    "# Load the data\n",
    "df = pd.read_csv(\"housing_sales.csv\")\n",
    "\n",
    "# Show the first few rows\n",
    "df.head()\n"
   ]
  },
  {
   "cell_type": "code",
   "execution_count": null,
   "id": "618e5e02",
   "metadata": {},
   "outputs": [],
   "source": [
    "\n",
    "plt.hist(df['SalePrice'], bins=30, edgecolor='black')\n",
    "plt.title(\"Distribution of Sale Prices\")\n",
    "plt.xlabel(\"Sale Price\")\n",
    "plt.ylabel(\"Frequency\")\n",
    "plt.show()\n"
   ]
  },
  {
   "cell_type": "code",
   "execution_count": null,
   "id": "6e42efbf",
   "metadata": {},
   "outputs": [],
   "source": [
    "\n",
    "df.groupby('City')['SalePrice'].mean().sort_values().plot(kind='barh', figsize=(8,6))\n",
    "plt.title(\"Average Sale Price by City\")\n",
    "plt.xlabel(\"Average Sale Price\")\n",
    "plt.ylabel(\"City\")\n",
    "plt.show()\n"
   ]
  },
  {
   "cell_type": "code",
   "execution_count": null,
   "id": "46613983",
   "metadata": {},
   "outputs": [],
   "source": [
    "\n",
    "df.groupby('PropertyType')['SalePrice'].mean().sort_values().plot(kind='bar', figsize=(8,6))\n",
    "plt.title(\"Average Sale Price by Property Type\")\n",
    "plt.xlabel(\"Property Type\")\n",
    "plt.ylabel(\"Average Sale Price\")\n",
    "plt.show()\n"
   ]
  },
  {
   "cell_type": "code",
   "execution_count": null,
   "id": "335df67a",
   "metadata": {},
   "outputs": [],
   "source": [
    "\n",
    "df.boxplot(column='SalePrice', by='Bedrooms', figsize=(8,6))\n",
    "plt.title(\"Sale Price by Number of Bedrooms\")\n",
    "plt.suptitle(\"\")\n",
    "plt.xlabel(\"Bedrooms\")\n",
    "plt.ylabel(\"Sale Price\")\n",
    "plt.show()\n"
   ]
  },
  {
   "cell_type": "code",
   "execution_count": null,
   "id": "0852b476",
   "metadata": {},
   "outputs": [],
   "source": [
    "\n",
    "df.boxplot(column='SalePrice', by='Bathrooms', figsize=(8,6))\n",
    "plt.title(\"Sale Price by Number of Bathrooms\")\n",
    "plt.suptitle(\"\")\n",
    "plt.xlabel(\"Bathrooms\")\n",
    "plt.ylabel(\"Sale Price\")\n",
    "plt.show()\n"
   ]
  },
  {
   "cell_type": "code",
   "execution_count": null,
   "id": "05a50c12",
   "metadata": {},
   "outputs": [],
   "source": [
    "\n",
    "plt.scatter(df['SquareFeet'], df['SalePrice'], alpha=0.5)\n",
    "plt.title(\"Square Feet vs Sale Price\")\n",
    "plt.xlabel(\"Square Feet\")\n",
    "plt.ylabel(\"Sale Price\")\n",
    "plt.show()\n"
   ]
  },
  {
   "cell_type": "code",
   "execution_count": null,
   "id": "c6d085c5",
   "metadata": {},
   "outputs": [],
   "source": [
    "\n",
    "df['SaleDate'] = pd.to_datetime(df['SaleDate'])\n",
    "df.groupby(df['SaleDate'].dt.to_period('M'))['SalePrice'].mean().plot(figsize=(10,6))\n",
    "plt.title(\"Average Sale Price Over Time\")\n",
    "plt.xlabel(\"Date\")\n",
    "plt.ylabel(\"Average Sale Price\")\n",
    "plt.show()\n"
   ]
  },
  {
   "cell_type": "code",
   "execution_count": null,
   "id": "d1590ccc",
   "metadata": {},
   "outputs": [],
   "source": [
    "\n",
    "df['City'].value_counts().plot(kind='bar', figsize=(8,6))\n",
    "plt.title(\"Number of Sales per City\")\n",
    "plt.xlabel(\"City\")\n",
    "plt.ylabel(\"Number of Sales\")\n",
    "plt.show()\n"
   ]
  },
  {
   "cell_type": "code",
   "execution_count": null,
   "id": "5a4ccbe7",
   "metadata": {},
   "outputs": [],
   "source": [
    "\n",
    "df['PropertyType'].value_counts().plot(kind='pie', autopct='%1.1f%%', figsize=(8,8))\n",
    "plt.title(\"Distribution of Property Types\")\n",
    "plt.ylabel(\"\")\n",
    "plt.show()\n"
   ]
  }
 ],
 "metadata": {},
 "nbformat": 4,
 "nbformat_minor": 5
}